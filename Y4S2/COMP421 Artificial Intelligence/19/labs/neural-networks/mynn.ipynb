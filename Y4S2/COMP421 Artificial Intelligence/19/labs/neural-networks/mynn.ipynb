{
  "nbformat": 4,
  "nbformat_minor": 0,
  "metadata": {
    "colab": {
      "provenance": []
    },
    "kernelspec": {
      "name": "python3",
      "display_name": "Python 3"
    },
    "language_info": {
      "name": "python"
    }
  },
  "cells": [
    {
      "cell_type": "code",
      "execution_count": null,
      "metadata": {
        "colab": {
          "base_uri": "https://localhost:8080/"
        },
        "id": "kM3K3EVc-ks8",
        "outputId": "193d7b0d-3e91-4b86-a365-7d7c8a85d7c2"
      },
      "outputs": [
        {
          "output_type": "stream",
          "name": "stdout",
          "text": [
            "Looking in indexes: https://pypi.org/simple, https://us-python.pkg.dev/colab-wheels/public/simple/\n",
            "Requirement already satisfied: matplotlib in /usr/local/lib/python3.8/dist-packages (3.2.2)\n",
            "Requirement already satisfied: cycler>=0.10 in /usr/local/lib/python3.8/dist-packages (from matplotlib) (0.11.0)\n",
            "Requirement already satisfied: pyparsing!=2.0.4,!=2.1.2,!=2.1.6,>=2.0.1 in /usr/local/lib/python3.8/dist-packages (from matplotlib) (3.0.9)\n",
            "Requirement already satisfied: kiwisolver>=1.0.1 in /usr/local/lib/python3.8/dist-packages (from matplotlib) (1.4.4)\n",
            "Requirement already satisfied: numpy>=1.11 in /usr/local/lib/python3.8/dist-packages (from matplotlib) (1.21.6)\n",
            "Requirement already satisfied: python-dateutil>=2.1 in /usr/local/lib/python3.8/dist-packages (from matplotlib) (2.8.2)\n",
            "Requirement already satisfied: six>=1.5 in /usr/local/lib/python3.8/dist-packages (from python-dateutil>=2.1->matplotlib) (1.15.0)\n"
          ]
        }
      ],
      "source": [
        "!pip install matplotlib"
      ]
    },
    {
      "cell_type": "code",
      "source": [
        "!pip install numpy"
      ],
      "metadata": {
        "colab": {
          "base_uri": "https://localhost:8080/"
        },
        "id": "On5fXjrr-pPr",
        "outputId": "727da49b-a572-4b22-9ba8-96c6659a128f"
      },
      "execution_count": null,
      "outputs": [
        {
          "output_type": "stream",
          "name": "stdout",
          "text": [
            "Looking in indexes: https://pypi.org/simple, https://us-python.pkg.dev/colab-wheels/public/simple/\n",
            "Requirement already satisfied: numpy in /usr/local/lib/python3.8/dist-packages (1.21.6)\n"
          ]
        }
      ]
    },
    {
      "cell_type": "code",
      "source": [
        "import numpy as np\n",
        "import matplotlib.pyplot as plt"
      ],
      "metadata": {
        "id": "sNXJadJf_hxb"
      },
      "execution_count": null,
      "outputs": []
    },
    {
      "cell_type": "code",
      "source": [
        "class NeuralNetwork:\n",
        "  def __init__(self, learning_rate):\n",
        "    self.weights = np.array([np.random.randn(), np.random.randn()])\n",
        "    self.bias = np.random.randn()\n",
        "    self.learning_rate = learning_rate\n",
        "\n",
        "  def _sigmoid(self, x):\n",
        "    return 1 / (1 + np.exp(-x))\n",
        "\n",
        "  def _sigmoid_deriv(self, x):\n",
        "    return self._sigmoid(x) * (1 - self._sigmoid(x))\n",
        "\n",
        "  def predict(self, input_vector):\n",
        "    layer_1 = np.dot(input_vector, self.weights) + self.bias\n",
        "    layer_2 = self._sigmoid(layer_1)\n",
        "    return layer_2\n",
        "\n",
        "  def _compute_gradients(self, input_vector, target):\n",
        "    layer_1 = np.dot(input_vector, self.weights) + self.bias\n",
        "    layer_2 = self._sigmoid(layer_1)\n",
        "    prediction = layer_2\n",
        "\n",
        "    derror_dprediction = 2 * (prediction - target)\n",
        "    dprediction_dlayer1 = self._sigmoid_deriv(layer_1)\n",
        "    dlayer1_dbias = 1\n",
        "    dlayer1_dweights = (0 * self.weights) + (1 * input_vector)\n",
        "\n",
        "    derror_dbias = (\n",
        "        derror_dprediction * dprediction_dlayer1 * dlayer1_dbias\n",
        "    )\n",
        "    derror_dweights = (\n",
        "        derror_dprediction * dprediction_dlayer1 * dlayer1_dweights\n",
        "    )\n",
        "\n",
        "    return derror_dbias, derror_dweights\n",
        "\n",
        "  def _update_parameters(self, derror_dbias, derror_dweights):\n",
        "    self.bias = self.bias - (derror_dbias * self.learning_rate)\n",
        "    self.weights = self.weights - (\n",
        "        derror_dweights * self.learning_rate\n",
        "    )\n",
        "\n",
        "  def train(self, input_vectors, targets, iterations):\n",
        "    cumulative_errors = []\n",
        "    for current_iteration in range(iterations):\n",
        "      random_data_index = np.random.randint(len(input_vectors))\n",
        "      input_vector = input_vectors[random_data_index]\n",
        "      target = targets[random_data_index]\n",
        "\n",
        "      derror_dbias, derror_dweights = self._compute_gradients(\n",
        "          input_vector, target\n",
        "      )\n",
        "\n",
        "      self._update_parameters(derror_dbias, derror_dweights)\n",
        "\n",
        "      if current_iteration % 100 == 0:\n",
        "        cumulative_error = 0\n",
        "        for data_instance_index in range(len(input_vectors)):\n",
        "          data_point = input_vectors[data_instance_index]\n",
        "          target = targets[data_instance_index]\n",
        "\n",
        "          prediction = self.predict(data_point)\n",
        "          error = np.square(prediction - target)\n",
        "\n",
        "          cumulative_error = cumulative_error + error\n",
        "        print(\"Iter: {}, Cul_err: {}\".format(current_iteration, cumulative_error))\n",
        "        cumulative_errors.append(cumulative_error)\n",
        "    return cumulative_errors\n"
      ],
      "metadata": {
        "id": "fkT8cEVd-rWP"
      },
      "execution_count": null,
      "outputs": []
    },
    {
      "cell_type": "code",
      "source": [
        "input_vectors = np.array(\n",
        "  [\n",
        "    [3, 1.5],\n",
        "    [2, 1],\n",
        "    [4, 1.5],\n",
        "    [3, 4],\n",
        "    [3.5, 0.5],\n",
        "    [2, 0.5],\n",
        "    [5.5, 1],\n",
        "    [1, 1],\n",
        "  ]\n",
        ")\n",
        "\n",
        "targets = np.array([0, 1, 0, 1, 0, 1, 1, 0])\n",
        "\n",
        "learning_rate = 0.01\n",
        "\n",
        "neural_network = NeuralNetwork(learning_rate)\n",
        "\n",
        "training_error = neural_network.train(input_vectors, targets, 10000)\n",
        "\n",
        "plt.plot(training_error)\n"
      ],
      "metadata": {
        "colab": {
          "base_uri": "https://localhost:8080/",
          "height": 1000
        },
        "id": "nTxwa5V2__KD",
        "outputId": "f6901ae8-12ab-414b-8cad-0c32a0ff12e6"
      },
      "execution_count": null,
      "outputs": [
        {
          "output_type": "stream",
          "name": "stdout",
          "text": [
            "Iter: 0, Cul_err: 3.9334348780959387\n",
            "Iter: 100, Cul_err: 3.9320034770778283\n",
            "Iter: 200, Cul_err: 3.9298169978926376\n",
            "Iter: 300, Cul_err: 3.928100509967633\n",
            "Iter: 400, Cul_err: 3.925428329145089\n",
            "Iter: 500, Cul_err: 3.9235391917645814\n",
            "Iter: 600, Cul_err: 3.9211409725102286\n",
            "Iter: 700, Cul_err: 3.9194930115658684\n",
            "Iter: 800, Cul_err: 3.9170657595675595\n",
            "Iter: 900, Cul_err: 3.914399830280807\n",
            "Iter: 1000, Cul_err: 3.9111960999735933\n",
            "Iter: 1100, Cul_err: 3.909357713348309\n",
            "Iter: 1200, Cul_err: 3.90648383870348\n",
            "Iter: 1300, Cul_err: 3.902940219278257\n",
            "Iter: 1400, Cul_err: 3.8994916528599424\n",
            "Iter: 1500, Cul_err: 3.89595187350662\n",
            "Iter: 1600, Cul_err: 3.890671554296333\n",
            "Iter: 1700, Cul_err: 3.885477249226926\n",
            "Iter: 1800, Cul_err: 3.879316681311826\n",
            "Iter: 1900, Cul_err: 3.872954674409585\n",
            "Iter: 2000, Cul_err: 3.864798792595492\n",
            "Iter: 2100, Cul_err: 3.857976474913328\n",
            "Iter: 2200, Cul_err: 3.845536717329612\n",
            "Iter: 2300, Cul_err: 3.8349372622865174\n",
            "Iter: 2400, Cul_err: 3.8243670120895796\n",
            "Iter: 2500, Cul_err: 3.805837283634023\n",
            "Iter: 2600, Cul_err: 3.783098018628986\n",
            "Iter: 2700, Cul_err: 3.7568922648811776\n",
            "Iter: 2800, Cul_err: 3.7181461263423197\n",
            "Iter: 2900, Cul_err: 3.674492264428219\n",
            "Iter: 3000, Cul_err: 3.613020557423862\n",
            "Iter: 3100, Cul_err: 3.4868092032599396\n",
            "Iter: 3200, Cul_err: 3.207963526096842\n",
            "Iter: 3300, Cul_err: 2.608490591558195\n",
            "Iter: 3400, Cul_err: 2.13943690258268\n",
            "Iter: 3500, Cul_err: 2.049670800294757\n",
            "Iter: 3600, Cul_err: 2.037406261091741\n",
            "Iter: 3700, Cul_err: 2.0452492871245664\n",
            "Iter: 3800, Cul_err: 2.089219349147351\n",
            "Iter: 3900, Cul_err: 2.013353303011396\n",
            "Iter: 4000, Cul_err: 2.0121829451115287\n",
            "Iter: 4100, Cul_err: 2.0028373359364626\n",
            "Iter: 4200, Cul_err: 2.0041341737612024\n",
            "Iter: 4300, Cul_err: 1.9868697730968226\n",
            "Iter: 4400, Cul_err: 1.985634827572864\n",
            "Iter: 4500, Cul_err: 1.9799890832252673\n",
            "Iter: 4600, Cul_err: 1.9780365622822607\n",
            "Iter: 4700, Cul_err: 1.979367391314004\n",
            "Iter: 4800, Cul_err: 1.9691689770201508\n",
            "Iter: 4900, Cul_err: 1.9666221899926852\n",
            "Iter: 5000, Cul_err: 1.967250581872328\n",
            "Iter: 5100, Cul_err: 1.9608844667475522\n",
            "Iter: 5200, Cul_err: 1.9820235491571963\n",
            "Iter: 5300, Cul_err: 1.9619329725067596\n",
            "Iter: 5400, Cul_err: 1.9611396158699872\n",
            "Iter: 5500, Cul_err: 1.9484386593312961\n",
            "Iter: 5600, Cul_err: 1.983920768533197\n",
            "Iter: 5700, Cul_err: 1.9494880858259247\n",
            "Iter: 5800, Cul_err: 1.9431871969581336\n",
            "Iter: 5900, Cul_err: 1.9672603425028017\n",
            "Iter: 6000, Cul_err: 1.9553422655049997\n",
            "Iter: 6100, Cul_err: 1.9444032942376595\n",
            "Iter: 6200, Cul_err: 1.9538411693726279\n",
            "Iter: 6300, Cul_err: 1.9419428922015887\n",
            "Iter: 6400, Cul_err: 1.9379706719813077\n",
            "Iter: 6500, Cul_err: 1.9727357169070174\n",
            "Iter: 6600, Cul_err: 1.9415970672319287\n",
            "Iter: 6700, Cul_err: 1.9647639154890868\n",
            "Iter: 6800, Cul_err: 1.9310759775609996\n",
            "Iter: 6900, Cul_err: 1.945274172182475\n",
            "Iter: 7000, Cul_err: 1.9304816454316231\n",
            "Iter: 7100, Cul_err: 1.9278878377544582\n",
            "Iter: 7200, Cul_err: 1.9249460238062672\n",
            "Iter: 7300, Cul_err: 1.9255305999943941\n",
            "Iter: 7400, Cul_err: 1.9218511977646946\n",
            "Iter: 7500, Cul_err: 1.9262244695053874\n",
            "Iter: 7600, Cul_err: 1.917572411616181\n",
            "Iter: 7700, Cul_err: 1.9170382615715975\n",
            "Iter: 7800, Cul_err: 1.9222634063917212\n",
            "Iter: 7900, Cul_err: 2.0267964304672526\n",
            "Iter: 8000, Cul_err: 1.9338985312695187\n",
            "Iter: 8100, Cul_err: 1.981148789865319\n",
            "Iter: 8200, Cul_err: 1.9121057166506095\n",
            "Iter: 8300, Cul_err: 1.9116375891295085\n",
            "Iter: 8400, Cul_err: 1.9163119382526252\n",
            "Iter: 8500, Cul_err: 1.9149872083705113\n",
            "Iter: 8600, Cul_err: 1.909459704599712\n",
            "Iter: 8700, Cul_err: 1.9116300245222664\n",
            "Iter: 8800, Cul_err: 1.923810120344923\n",
            "Iter: 8900, Cul_err: 1.9337953622651538\n",
            "Iter: 9000, Cul_err: 1.9073248291238436\n",
            "Iter: 9100, Cul_err: 1.907239058667851\n",
            "Iter: 9200, Cul_err: 2.0112767927876094\n",
            "Iter: 9300, Cul_err: 1.9112840806075837\n",
            "Iter: 9400, Cul_err: 1.9434204784502327\n",
            "Iter: 9500, Cul_err: 1.913430023593259\n",
            "Iter: 9600, Cul_err: 1.9047884220427997\n",
            "Iter: 9700, Cul_err: 1.9026638649262126\n",
            "Iter: 9800, Cul_err: 1.9099302824906121\n",
            "Iter: 9900, Cul_err: 1.9217702099228937\n"
          ]
        },
        {
          "output_type": "execute_result",
          "data": {
            "text/plain": [
              "[<matplotlib.lines.Line2D at 0x7f031b2466a0>]"
            ]
          },
          "metadata": {},
          "execution_count": 14
        },
        {
          "output_type": "display_data",
          "data": {
            "text/plain": [
              "<Figure size 432x288 with 1 Axes>"
            ],
            "image/png": "[encoded data removed]"
          },
          "metadata": {
            "needs_background": "light"
          }
        }
      ]
    },
    {
      "cell_type": "code",
      "source": [
        "y_hat"
      ],
      "metadata": {
        "colab": {
          "base_uri": "https://localhost:8080/"
        },
        "id": "GyMpCU0TH_y-",
        "outputId": "b8a23dcb-7f8c-4331-86d6-c71ece8006d9"
      },
      "execution_count": null,
      "outputs": [
        {
          "output_type": "execute_result",
          "data": {
            "text/plain": [
              "0.18945266922106135"
            ]
          },
          "metadata": {},
          "execution_count": 9
        }
      ]
    },
    {
      "cell_type": "code",
      "source": [],
      "metadata": {
        "id": "rttEaWOHIAlA"
      },
      "execution_count": null,
      "outputs": []
    }
  ]
}